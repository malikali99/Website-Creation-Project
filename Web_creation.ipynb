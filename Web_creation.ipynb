{
 "cells": [
  {
   "cell_type": "markdown",
   "metadata": {},
   "source": [
    "# **`Website Creation Projects`**\n",
    "![Alt Text](./website.gif)\n",
    "\n",
    "**`Author Name:`** Malik Hasnain Ali\\\n",
    "**`Email ID:`** 512yaali@gmai.com\\\n",
    "**`Linkedin profile:`** [hasnainali99](https://www.linkedin.com/in/hasnainali99/)\n",
    "\n",
    "**`Creation Month/Year:`**\n",
    "- July-2022 to December-2022\n",
    "\n",
    "**`Project Source:`**\n",
    "- I get these four projects from a virtual base company name as EBC Digital who source their projects.\n",
    "\n",
    "**`Project Name:`**\n",
    "- [TLR Dream Shop US](http://tlrdreamshopus.com/)\n",
    "- [Ku Choice](https://kuchoice.com/) \n",
    "- [Awan Retailers](http://awanretailers.com/)  (**Not Working due to domain expire**)\n",
    "- [Amazing Seller llc](http://amazingsellersllc.com/) (**Not Working due to domain expire**)\n",
    "  \n",
    "**`Tools:`**\n",
    "- Cpanel\n",
    "- Namecheap\n",
    "- Godaddy\n",
    "- Wordpress\n",
    "- Elementor\n",
    "- Woocommerce\n",
    "- Canva\n",
    "- Envato Elements\n",
    "- Google Spreadsheets\n",
    "- Chatgpt\n",
    "- Freepik\n",
    "- HTML\n",
    "- WP Security\n",
    "\n",
    "**`Here Below are the snapshot of my website:`**\\\n",
    "**`Note:`** Only two websites are working now. Remaining two are not working because the owners of these two websites have not renew their domain and hosting.\n",
    "\n",
    "> ## **`tlrdreamshop.com`**\n",
    "\n",
    "![](./TLR.png)\n",
    "\n",
    "____\n",
    "> ## **`KUCHOICE.com`**\n",
    "\n",
    "![](./kuchoice.png)"
   ]
  },
  {
   "cell_type": "code",
   "execution_count": null,
   "metadata": {},
   "outputs": [],
   "source": []
  }
 ],
 "metadata": {
  "language_info": {
   "name": "python"
  }
 },
 "nbformat": 4,
 "nbformat_minor": 2
}
